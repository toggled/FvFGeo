{
 "cells": [
  {
   "cell_type": "code",
   "execution_count": 1,
   "metadata": {},
   "outputs": [
    {
     "name": "stderr",
     "output_type": "stream",
     "text": [
      "/home2/naheed1/miniconda3/envs/cu113py39/lib/python3.9/site-packages/tqdm/auto.py:21: TqdmWarning: IProgress not found. Please update jupyter and ipywidgets. See https://ipywidgets.readthedocs.io/en/stable/user_install.html\n",
      "  from .autonotebook import tqdm as notebook_tqdm\n"
     ]
    }
   ],
   "source": [
    "from datasets import MeshAirfoilDataset, MeshGeneralDataset\n",
    "from trainer import Trainer\n",
    "import os \n",
    "class Args:\n",
    "    pass \n",
    "args = Args()\n",
    "args.case = \"airfoil\"\n",
    "args.space_dim=2\n",
    "args.n_train=2 #1000\n",
    "args.n_valid= 0 #100\n",
    "args.n_test=0 #100\n",
    "args.time_len=1 #500\n",
    "args.noise_level=[10, 10, 0.01]\n",
    "# args.shuffle noise level\n",
    "args.consist_mesh=0\n",
    "args.multi_mesh_layer=9\n",
    "args.mp_time=1\n",
    "args.restart_epoch = -1\n",
    "args.num_epochs=1 #50\n",
    "args.batch=1\n",
    "args.lr=0.0001\n",
    "args.gamma=0.79432823472\n",
    "args.noise_gamma = 1\n",
    "args.hidden_dim = 128\n",
    "args.hidden_depth = 2\n",
    "args.data_dir='./data/airfoil'\n",
    "args.dump_dir='./res/airfoil'\n",
    "args.recal_mesh = True"
   ]
  },
  {
   "cell_type": "code",
   "execution_count": 2,
   "metadata": {},
   "outputs": [
    {
     "name": "stderr",
     "output_type": "stream",
     "text": [
      "  0%|                                                                                                | 0/1 [00:00<?, ?iters/s]"
     ]
    }
   ],
   "source": [
    "args.consist_mesh = bool(args.consist_mesh)\n",
    "args.dump_dir = os.path.join(args.dump_dir, 'ours')\n",
    "device = 'cuda:0'\n",
    "trainer = Trainer(args, device)"
   ]
  },
  {
   "cell_type": "code",
   "execution_count": 3,
   "metadata": {},
   "outputs": [
    {
     "name": "stdout",
     "output_type": "stream",
     "text": [
      "epoch start ------\n",
      "train  => len =  2\n",
      "_create_datset_offline:  1 train\n",
      "field_names:  ['node_type', 'cells', 'mesh_pos', 'density', 'pressure', 'velocity']\n",
      "field keys:  ['node_type', 'cells', 'mesh_pos', 'density', 'pressure', 'velocity']\n",
      "self.cells:  (10216, 3)\n",
      "stride:  1\n",
      "fields[\"mesh_pos\"].shape[0]:  501\n",
      "flat_edge.shape:  (2, 30898)\n",
      "l =  0\n",
      "n_l =  5233\n",
      "pos_mesh.shape:  (2638, 2)\n",
      "g.shape:  (2, 24406)\n",
      "l =  1\n",
      "n_l =  2638\n",
      "pos_mesh.shape:  (1324, 2)\n",
      "g.shape:  (2, 19922)\n",
      "l =  2\n",
      "n_l =  1324\n",
      "pos_mesh.shape:  (686, 2)\n",
      "g.shape:  (2, 18214)\n",
      "l =  3\n",
      "n_l =  686\n",
      "pos_mesh.shape:  (357, 2)\n",
      "g.shape:  (2, 16904)\n",
      "l =  4\n",
      "n_l =  357\n",
      "pos_mesh.shape:  (213, 2)\n",
      "g.shape:  (2, 21600)\n",
      "l =  5\n",
      "n_l =  213\n",
      "pos_mesh.shape:  (132, 2)\n",
      "g.shape:  (2, 15972)\n",
      "l =  6\n",
      "n_l =  132\n",
      "pos_mesh.shape:  (67, 2)\n",
      "g.shape:  (2, 4422)\n",
      "l =  7\n",
      "n_l =  67\n",
      "pos_mesh.shape:  (34, 2)\n",
      "g.shape:  (2, 1122)\n",
      "l =  8\n",
      "n_l =  34\n",
      "pos_mesh.shape:  (18, 2)\n",
      "g.shape:  (2, 306)\n",
      "fields[\"velocity\"] =  torch.Size([500, 5233, 2])\n",
      "torch.Size([500, 5233, 1])\n",
      "torch.Size([500, 5233, 2])\n",
      "_preprocess:  torch.Size([500, 5233, 3])   torch.Size([500, 5233, 4])\n",
      "mdata =  <class 'datasets.MeshAirfoilDataset'>\n",
      "_create_datset_offline:  0 train\n",
      "field_names:  ['node_type', 'cells', 'mesh_pos', 'density', 'pressure', 'velocity']\n",
      "field keys:  ['node_type', 'cells', 'mesh_pos', 'density', 'pressure', 'velocity']\n",
      "self.cells:  (10216, 3)\n",
      "stride:  1\n",
      "fields[\"mesh_pos\"].shape[0]:  501\n",
      "flat_edge.shape:  (2, 30898)\n",
      "l =  0\n",
      "n_l =  5233\n",
      "pos_mesh.shape:  (2638, 2)\n",
      "g.shape:  (2, 24406)\n",
      "l =  1\n",
      "n_l =  2638\n",
      "pos_mesh.shape:  (1324, 2)\n",
      "g.shape:  (2, 19922)\n",
      "l =  2\n",
      "n_l =  1324\n",
      "pos_mesh.shape:  (686, 2)\n",
      "g.shape:  (2, 18214)\n",
      "l =  3\n",
      "n_l =  686\n",
      "pos_mesh.shape:  (357, 2)\n",
      "g.shape:  (2, 16904)\n",
      "l =  4\n",
      "n_l =  357\n",
      "pos_mesh.shape:  (213, 2)\n",
      "g.shape:  (2, 21600)\n",
      "l =  5\n",
      "n_l =  213\n",
      "pos_mesh.shape:  (132, 2)\n",
      "g.shape:  (2, 15972)\n",
      "l =  6\n",
      "n_l =  132\n",
      "pos_mesh.shape:  (67, 2)\n",
      "g.shape:  (2, 4422)\n",
      "l =  7\n",
      "n_l =  67\n",
      "pos_mesh.shape:  (34, 2)\n",
      "g.shape:  (2, 1122)\n",
      "l =  8\n",
      "n_l =  34\n",
      "pos_mesh.shape:  (18, 2)\n",
      "g.shape:  (2, 306)\n",
      "fields[\"velocity\"] =  torch.Size([500, 5233, 2])\n",
      "torch.Size([500, 5233, 1])\n",
      "torch.Size([500, 5233, 2])\n",
      "_preprocess:  torch.Size([500, 5233, 3])   torch.Size([500, 5233, 4])\n"
     ]
    },
    {
     "name": "stderr",
     "output_type": "stream",
     "text": [
      "Epoch: 0, Traning RMSE: 15.251622348226752: 100%|████████████████████████████████████████████| 1/1 [00:46<00:00, 46.68s/iters]"
     ]
    },
    {
     "name": "stdout",
     "output_type": "stream",
     "text": [
      "mdata =  <class 'datasets.MeshAirfoilDataset'>\n",
      "epoch end ------\n"
     ]
    },
    {
     "name": "stderr",
     "output_type": "stream",
     "text": [
      "\n"
     ]
    }
   ],
   "source": [
    "trainer.train()"
   ]
  },
  {
   "cell_type": "code",
   "execution_count": 26,
   "metadata": {},
   "outputs": [
    {
     "name": "stdout",
     "output_type": "stream",
     "text": [
      "field_names:  ['node_type', 'cells', 'mesh_pos', 'density', 'pressure', 'velocity']\n",
      "(10216, 3)\n",
      "torch.Size([501, 5233, 2])\n"
     ]
    }
   ],
   "source": [
    "import json,h5py,torch\n",
    "root = './data/airfoil/'\n",
    "data_dir = os.path.join(root,'outputs_train/')\n",
    "instance_id = 9\n",
    "with open(os.path.join(root, 'meta.json'), 'r') as fp:\n",
    "    meta = json.loads(fp.read())\n",
    "field_names = meta['field_names']\n",
    "print('field_names: ',field_names)\n",
    "fields = dict()\n",
    "with h5py.File(os.path.join(data_dir, str(instance_id) + '.h5'), 'r') as f:\n",
    "    for name in field_names:\n",
    "        if name == \"cells\":\n",
    "            fields[name] = np.array(f[name])\n",
    "            cells = fields[name][0]\n",
    "        else:\n",
    "            fields[name] = torch.tensor(np.array(f[name]), dtype=torch.float)\n",
    "print(cells.shape)\n",
    "print(fields[\"velocity\"].shape)"
   ]
  },
  {
   "cell_type": "code",
   "execution_count": null,
   "metadata": {},
   "outputs": [],
   "source": []
  },
  {
   "cell_type": "code",
   "execution_count": 4,
   "metadata": {},
   "outputs": [
    {
     "name": "stdout",
     "output_type": "stream",
     "text": [
      "[0 0 1 2 2 2]\n",
      "[1 2 0 0 1 2]\n"
     ]
    }
   ],
   "source": [
    "import numpy as np\n",
    "adj_mat = np.array([[0,1,1],[1,0,0],[1,1,1]])\n",
    "s, r = np.where(adj_mat.astype(bool))\n",
    "print(s)\n",
    "print(r)"
   ]
  },
  {
   "cell_type": "code",
   "execution_count": 5,
   "metadata": {},
   "outputs": [
    {
     "data": {
      "text/plain": [
       "(array([0, 0, 1, 2, 2, 2]), array([1, 2, 0, 0, 1, 2]))"
      ]
     },
     "execution_count": 5,
     "metadata": {},
     "output_type": "execute_result"
    }
   ],
   "source": [
    "np.where(adj_mat.astype(bool))"
   ]
  },
  {
   "cell_type": "code",
   "execution_count": null,
   "metadata": {},
   "outputs": [],
   "source": []
  },
  {
   "cell_type": "code",
   "execution_count": 5,
   "metadata": {},
   "outputs": [
    {
     "name": "stdout",
     "output_type": "stream",
     "text": [
      "self.recal_mesh =  1\n",
      "generate multi-layer\n",
      "flat_edge.shape:  (2, 13456)\n",
      "l =  0  index_to_keep.max() =  4785 (2, 10662)\n",
      "l =  1  index_to_keep.max() =  2394 (2, 7618)\n",
      "l =  2  index_to_keep.max() =  1198 (2, 6258)\n",
      "l =  3  index_to_keep.max() =  614 (2, 5628)\n",
      "l =  4  index_to_keep.max() =  321 (2, 5682)\n",
      "l =  5  index_to_keep.max() =  172 (2, 7690)\n",
      "l =  6  index_to_keep.max() =  103 (2, 2756)\n",
      "l =  7  index_to_keep.max() =  51 (2, 702)\n",
      "l =  8  index_to_keep.max() =  25 (2, 182)\n"
     ]
    }
   ],
   "source": [
    "import torch\n",
    "import datasets as cdata\n",
    "from multiprocessing import Pool\n",
    "num_threads = 32\n",
    "def func(id):\n",
    "    mdata = cdata.ShapeFV('../data/shapes',\n",
    "                                   instance_id=id,\n",
    "                                   layer_num=9,\n",
    "                                   stride=1,\n",
    "                                   mode = 'train',\n",
    "                                   recal_mesh=1,\n",
    "                                   consist_mesh=0,\n",
    "                                   in_normal_feature_list=['mesh_pos','saf','dsdf'])\n",
    "# # samples/airfoils\n",
    "# with Pool(processes=num_threads) as pool:\n",
    "#     pool.map(func, range(1600))\n",
    "\n",
    "\n",
    "def func2(id):\n",
    "    mdata = cdata.ShapeFV('../data/shapes',\n",
    "                                   instance_id=id,\n",
    "                                   layer_num=9,\n",
    "                                   stride=1,\n",
    "                                   mode = 'valid',\n",
    "                                   recal_mesh=1,\n",
    "                                   consist_mesh=0,\n",
    "                                   in_normal_feature_list=['mesh_pos','saf','dsdf'])\n",
    "# samples/airfoils\n",
    "with Pool(processes=num_threads) as pool:\n",
    "    pool.map(func2, range(200))\n",
    "    \n",
    "def func3(id):\n",
    "    mdata = cdata.ShapeFV('../data/shapes',\n",
    "                                   instance_id=id,\n",
    "                                   layer_num=9,\n",
    "                                   stride=1,\n",
    "                                   mode = 'test',\n",
    "                                   recal_mesh=1,\n",
    "                                   consist_mesh=0,\n",
    "                                   in_normal_feature_list=['mesh_pos','saf','dsdf'])\n",
    "# samples/airfoils\n",
    "with Pool(processes=num_threads) as pool:\n",
    "    pool.map(func3, range(200))"
   ]
  }
 ],
 "metadata": {
  "kernelspec": {
   "display_name": "Python 3 (ipykernel)",
   "language": "python",
   "name": "python3"
  },
  "language_info": {
   "codemirror_mode": {
    "name": "ipython",
    "version": 3
   },
   "file_extension": ".py",
   "mimetype": "text/x-python",
   "name": "python",
   "nbconvert_exporter": "python",
   "pygments_lexer": "ipython3",
   "version": "3.9.0"
  }
 },
 "nbformat": 4,
 "nbformat_minor": 4
}
